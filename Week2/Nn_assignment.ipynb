{
  "nbformat": 4,
  "nbformat_minor": 0,
  "metadata": {
    "colab": {
      "provenance": []
    },
    "kernelspec": {
      "name": "python3",
      "display_name": "Python 3"
    },
    "language_info": {
      "name": "python"
    }
  },
  "cells": [
    {
      "cell_type": "code",
      "execution_count": null,
      "metadata": {
        "id": "i1hgDQo9nBu1"
      },
      "outputs": [],
      "source": [
        "import tensorflow as tf\n",
        "from tensorflow.keras.preprocessing.image import ImageDataGenerator\n",
        "from tensorflow.keras.models import Sequential\n",
        "from tensorflow.keras.layers import Dense, Flatten\n",
        "from tensorflow.keras.optimizers import Adam\n",
        "import numpy as np\n",
        "import os\n",
        "from sklearn.model_selection import train_test_split\n",
        "from PIL import Image\n",
        "import random"
      ]
    },
    {
      "cell_type": "code",
      "source": [
        "seed_value = 50\n",
        "np.random.seed(seed_value)\n",
        "tf.random.set_seed(seed_value)\n",
        "random.seed(seed_value)\n"
      ],
      "metadata": {
        "id": "X7pBPoF6qy59"
      },
      "execution_count": null,
      "outputs": []
    },
    {
      "cell_type": "code",
      "source": [
        "import zipfile\n",
        "import os\n",
        "\n",
        "with zipfile.ZipFile('homer_bart.zip', 'r') as zip_ref:\n",
        "    zip_ref.extractall('homer_bart')\n",
        "\n",
        "os.listdir('homer_bart')"
      ],
      "metadata": {
        "colab": {
          "base_uri": "https://localhost:8080/"
        },
        "id": "YZWsk4xOoGdj",
        "outputId": "c51b7957-54ea-4480-d4cf-2c80c152336e"
      },
      "execution_count": null,
      "outputs": [
        {
          "output_type": "execute_result",
          "data": {
            "text/plain": [
              "['Bart', 'Homer']"
            ]
          },
          "metadata": {},
          "execution_count": 192
        }
      ]
    },
    {
      "cell_type": "code",
      "source": [
        "image_size = (64, 64)\n",
        "batch_size = 32\n",
        "\n",
        "def load_images_from_folder(folder):\n",
        "    images = []\n",
        "    for filename in os.listdir(folder):\n",
        "        img_path = os.path.join(folder, filename)\n",
        "        img = Image.open(img_path)\n",
        "        if img is not None:\n",
        "            img = img.resize(image_size)\n",
        "            images.append(np.array(img))\n",
        "    return images\n",
        "\n",
        "homer_images = load_images_from_folder('homer_bart/Homer')\n",
        "bart_images = load_images_from_folder('homer_bart/Bart')\n",
        "\n",
        "homer_labels = [0] * len(homer_images)\n",
        "bart_labels = [1] * len(bart_images)\n",
        "\n",
        "X = np.array(homer_images + bart_images)\n",
        "y = np.array(homer_labels + bart_labels)\n",
        "\n",
        "X = X / 255.0\n",
        "\n",
        "X = X.reshape(X.shape[0], -1)\n",
        "\n",
        "X_train, X_test, y_train, y_test = train_test_split(X, y, test_size=0.1, random_state=seed_value)\n"
      ],
      "metadata": {
        "id": "nDISMl1no5pO"
      },
      "execution_count": null,
      "outputs": []
    },
    {
      "cell_type": "code",
      "source": [
        "model = Sequential([\n",
        "    Dense(128, input_shape=(64*64*3,), activation='relu'),\n",
        "    Dense(64, activation='relu'),\n",
        "    Dense(32, activation='relu'),\n",
        "    Dense(1, activation='sigmoid')\n",
        "])\n",
        "\n",
        "model.compile(optimizer=Adam(learning_rate=0.01),\n",
        "              loss='binary_crossentropy',\n",
        "              metrics=['accuracy'])\n"
      ],
      "metadata": {
        "id": "Q15s17YKpq3L"
      },
      "execution_count": null,
      "outputs": []
    },
    {
      "cell_type": "code",
      "source": [
        "history = model.fit(X_train, y_train, epochs=45, batch_size=batch_size)"
      ],
      "metadata": {
        "colab": {
          "base_uri": "https://localhost:8080/"
        },
        "id": "yVt9GQHtpylN",
        "outputId": "0d3ea588-9d67-46c9-cfe7-f0fdc31f9604"
      },
      "execution_count": null,
      "outputs": [
        {
          "output_type": "stream",
          "name": "stdout",
          "text": [
            "Epoch 1/45\n",
            "8/8 [==============================] - 2s 34ms/step - loss: 16.7033 - accuracy: 0.5083\n",
            "Epoch 2/45\n",
            "8/8 [==============================] - 0s 32ms/step - loss: 5.4265 - accuracy: 0.5041\n",
            "Epoch 3/45\n",
            "8/8 [==============================] - 1s 129ms/step - loss: 5.8429 - accuracy: 0.5248\n",
            "Epoch 4/45\n",
            "8/8 [==============================] - 0s 32ms/step - loss: 4.4000 - accuracy: 0.5331\n",
            "Epoch 5/45\n",
            "8/8 [==============================] - 0s 30ms/step - loss: 3.2515 - accuracy: 0.5661\n",
            "Epoch 6/45\n",
            "8/8 [==============================] - 0s 31ms/step - loss: 1.3447 - accuracy: 0.5909\n",
            "Epoch 7/45\n",
            "8/8 [==============================] - 0s 35ms/step - loss: 0.6357 - accuracy: 0.7149\n",
            "Epoch 8/45\n",
            "8/8 [==============================] - 0s 21ms/step - loss: 0.5252 - accuracy: 0.7397\n",
            "Epoch 9/45\n",
            "8/8 [==============================] - 0s 22ms/step - loss: 0.5874 - accuracy: 0.7149\n",
            "Epoch 10/45\n",
            "8/8 [==============================] - 0s 22ms/step - loss: 0.4930 - accuracy: 0.7397\n",
            "Epoch 11/45\n",
            "8/8 [==============================] - 0s 22ms/step - loss: 0.5605 - accuracy: 0.7314\n",
            "Epoch 12/45\n",
            "8/8 [==============================] - 0s 27ms/step - loss: 0.5695 - accuracy: 0.7355\n",
            "Epoch 13/45\n",
            "8/8 [==============================] - 0s 21ms/step - loss: 0.6007 - accuracy: 0.7149\n",
            "Epoch 14/45\n",
            "8/8 [==============================] - 0s 21ms/step - loss: 0.7019 - accuracy: 0.6694\n",
            "Epoch 15/45\n",
            "8/8 [==============================] - 0s 21ms/step - loss: 0.5904 - accuracy: 0.7149\n",
            "Epoch 16/45\n",
            "8/8 [==============================] - 0s 21ms/step - loss: 0.5122 - accuracy: 0.7562\n",
            "Epoch 17/45\n",
            "8/8 [==============================] - 0s 21ms/step - loss: 0.4204 - accuracy: 0.8264\n",
            "Epoch 18/45\n",
            "8/8 [==============================] - 0s 26ms/step - loss: 0.3970 - accuracy: 0.8223\n",
            "Epoch 19/45\n",
            "8/8 [==============================] - 0s 22ms/step - loss: 0.3819 - accuracy: 0.8182\n",
            "Epoch 20/45\n",
            "8/8 [==============================] - 0s 21ms/step - loss: 0.3468 - accuracy: 0.8347\n",
            "Epoch 21/45\n",
            "8/8 [==============================] - 0s 21ms/step - loss: 0.3448 - accuracy: 0.8306\n",
            "Epoch 22/45\n",
            "8/8 [==============================] - 0s 23ms/step - loss: 0.3161 - accuracy: 0.8430\n",
            "Epoch 23/45\n",
            "8/8 [==============================] - 0s 27ms/step - loss: 0.2952 - accuracy: 0.8760\n",
            "Epoch 24/45\n",
            "8/8 [==============================] - 0s 22ms/step - loss: 0.3833 - accuracy: 0.8099\n",
            "Epoch 25/45\n",
            "8/8 [==============================] - 0s 21ms/step - loss: 0.4361 - accuracy: 0.7810\n",
            "Epoch 26/45\n",
            "8/8 [==============================] - 0s 21ms/step - loss: 0.4700 - accuracy: 0.7893\n",
            "Epoch 27/45\n",
            "8/8 [==============================] - 0s 22ms/step - loss: 0.3172 - accuracy: 0.8760\n",
            "Epoch 28/45\n",
            "8/8 [==============================] - 0s 24ms/step - loss: 0.2779 - accuracy: 0.8678\n",
            "Epoch 29/45\n",
            "8/8 [==============================] - 0s 25ms/step - loss: 0.2956 - accuracy: 0.8760\n",
            "Epoch 30/45\n",
            "8/8 [==============================] - 0s 22ms/step - loss: 0.3171 - accuracy: 0.8347\n",
            "Epoch 31/45\n",
            "8/8 [==============================] - 0s 21ms/step - loss: 0.3382 - accuracy: 0.8264\n",
            "Epoch 32/45\n",
            "8/8 [==============================] - 0s 21ms/step - loss: 0.3696 - accuracy: 0.8223\n",
            "Epoch 33/45\n",
            "8/8 [==============================] - 0s 24ms/step - loss: 0.3175 - accuracy: 0.8802\n",
            "Epoch 34/45\n",
            "8/8 [==============================] - 0s 28ms/step - loss: 0.2501 - accuracy: 0.8884\n",
            "Epoch 35/45\n",
            "8/8 [==============================] - 0s 22ms/step - loss: 0.2809 - accuracy: 0.8884\n",
            "Epoch 36/45\n",
            "8/8 [==============================] - 0s 21ms/step - loss: 0.2400 - accuracy: 0.9050\n",
            "Epoch 37/45\n",
            "8/8 [==============================] - 0s 23ms/step - loss: 0.3904 - accuracy: 0.7975\n",
            "Epoch 38/45\n",
            "8/8 [==============================] - 0s 21ms/step - loss: 0.3185 - accuracy: 0.8595\n",
            "Epoch 39/45\n",
            "8/8 [==============================] - 0s 25ms/step - loss: 0.1738 - accuracy: 0.9504\n",
            "Epoch 40/45\n",
            "8/8 [==============================] - 0s 22ms/step - loss: 0.1289 - accuracy: 0.9587\n",
            "Epoch 41/45\n",
            "8/8 [==============================] - 0s 23ms/step - loss: 0.0884 - accuracy: 0.9835\n",
            "Epoch 42/45\n",
            "8/8 [==============================] - 0s 21ms/step - loss: 0.1180 - accuracy: 0.9545\n",
            "Epoch 43/45\n",
            "8/8 [==============================] - 0s 21ms/step - loss: 0.1394 - accuracy: 0.9463\n",
            "Epoch 44/45\n",
            "8/8 [==============================] - 0s 24ms/step - loss: 0.1081 - accuracy: 0.9504\n",
            "Epoch 45/45\n",
            "8/8 [==============================] - 0s 25ms/step - loss: 0.0351 - accuracy: 0.9959\n"
          ]
        }
      ]
    },
    {
      "cell_type": "code",
      "source": [
        "test_loss, test_acc = model.evaluate(X_test, y_test)\n",
        "print(f'Test accuracy: {test_acc}')"
      ],
      "metadata": {
        "colab": {
          "base_uri": "https://localhost:8080/"
        },
        "id": "jfwfZtp_p4vJ",
        "outputId": "7587d2fb-2bfa-453b-c37e-35d92a4dfe41"
      },
      "execution_count": null,
      "outputs": [
        {
          "output_type": "stream",
          "name": "stdout",
          "text": [
            "1/1 [==============================] - 0s 214ms/step - loss: 0.3205 - accuracy: 0.9259\n",
            "Test accuracy: 0.9259259104728699\n"
          ]
        }
      ]
    }
  ]
}